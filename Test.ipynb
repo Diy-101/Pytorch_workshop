{
  "cells": [
    {
      "cell_type": "code",
      "execution_count": null,
      "id": "b9183745",
      "metadata": {
        "id": "b9183745",
        "outputId": "2482f17c-7a74-470e-9ac7-0356f3a5df71"
      },
      "outputs": [
        {
          "name": "stdout",
          "output_type": "stream",
          "text": [
            "I like the world!\n"
          ]
        }
      ],
      "source": [
        "print('I like the world!')"
      ]
    },
    {
      "cell_type": "code",
      "execution_count": 1,
      "id": "20da52d2",
      "metadata": {
        "id": "20da52d2",
        "outputId": "b0772ec7-1d2d-4c73-ff13-ab68ddadfb0e",
        "colab": {
          "base_uri": "https://localhost:8080/",
          "height": 36
        }
      },
      "outputs": [
        {
          "output_type": "execute_result",
          "data": {
            "text/plain": [
              "'2.6.0+cu124'"
            ],
            "application/vnd.google.colaboratory.intrinsic+json": {
              "type": "string"
            }
          },
          "metadata": {},
          "execution_count": 1
        }
      ],
      "source": [
        "import torch\n",
        "torch.__version__"
      ]
    },
    {
      "cell_type": "code",
      "source": [],
      "metadata": {
        "id": "szCmLDYDyTfN"
      },
      "id": "szCmLDYDyTfN",
      "execution_count": null,
      "outputs": []
    }
  ],
  "metadata": {
    "kernelspec": {
      "display_name": ".venv",
      "language": "python",
      "name": "python3"
    },
    "language_info": {
      "codemirror_mode": {
        "name": "ipython",
        "version": 3
      },
      "file_extension": ".py",
      "mimetype": "text/x-python",
      "name": "python",
      "nbconvert_exporter": "python",
      "pygments_lexer": "ipython3",
      "version": "3.13.2"
    },
    "colab": {
      "provenance": []
    }
  },
  "nbformat": 4,
  "nbformat_minor": 5
}