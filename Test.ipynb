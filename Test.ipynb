{
  "cells": [
    {
      "cell_type": "code",
      "execution_count": null,
      "id": "b9183745",
      "metadata": {
        "id": "b9183745",
        "outputId": "2482f17c-7a74-470e-9ac7-0356f3a5df71"
      },
      "outputs": [
        {
          "name": "stdout",
          "output_type": "stream",
          "text": [
            "I like the world!\n"
          ]
        }
      ],
      "source": [
        "print('I like the world!')"
      ]
    },
    {
      "cell_type": "code",
      "execution_count": 1,
      "id": "20da52d2",
      "metadata": {
        "colab": {
          "base_uri": "https://localhost:8080/",
          "height": 36
        },
        "id": "20da52d2",
        "outputId": "b0772ec7-1d2d-4c73-ff13-ab68ddadfb0e"
      },
      "outputs": [
        {
          "output_type": "execute_result",
          "data": {
            "text/plain": [
              "'2.6.0+cu124'"
            ],
            "application/vnd.google.colaboratory.intrinsic+json": {
              "type": "string"
            }
          },
          "metadata": {},
          "execution_count": 1
        }
      ],
      "source": [
        "import torch\n",
        "torch.__version__"
      ]
    },
    {
      "cell_type": "code",
      "source": [
        "import os\n",
        "import requests\n",
        "import zipfile\n",
        "from pathlib import Path\n",
        "\n",
        "\n",
        "data_path = Path('/data')\n",
        "image_path = data_path / 'pizza_steak_sushi'\n",
        "\n",
        "if image_path.is_dir():\n",
        "  print(f'{image_path} exists')\n",
        "else:\n",
        "  image_path.mkdir(parents=True, exist_ok=True)\n",
        "\n",
        "\n",
        "with open(data_path / 'pizza_steak_sushi.zip', 'wb') as f:\n",
        "  request = requests.get(\"https://github.com/mrdbourke/pytorch-deep-learning/raw/main/data/pizza_steak_sushi.zip\")\n",
        "  f.write(request.content)\n",
        "\n",
        "with zipfile.ZipFile(data_path / 'pizza_steak_sushi.zip', 'r') as zipf:\n",
        "  zipf.extractall(image_path)\n",
        "\n",
        "os.remove(data_path / 'pizza_steak_sushi.zip')"
      ],
      "metadata": {
        "id": "szCmLDYDyTfN"
      },
      "id": "szCmLDYDyTfN",
      "execution_count": 2,
      "outputs": []
    },
    {
      "cell_type": "code",
      "source": [],
      "metadata": {
        "id": "vrwlShV21o7M"
      },
      "id": "vrwlShV21o7M",
      "execution_count": null,
      "outputs": []
    }
  ],
  "metadata": {
    "kernelspec": {
      "display_name": ".venv",
      "language": "python",
      "name": "python3"
    },
    "language_info": {
      "codemirror_mode": {
        "name": "ipython",
        "version": 3
      },
      "file_extension": ".py",
      "mimetype": "text/x-python",
      "name": "python",
      "nbconvert_exporter": "python",
      "pygments_lexer": "ipython3",
      "version": "3.13.2"
    },
    "colab": {
      "provenance": []
    }
  },
  "nbformat": 4,
  "nbformat_minor": 5
}